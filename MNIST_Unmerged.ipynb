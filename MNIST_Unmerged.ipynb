{
  "nbformat": 4,
  "nbformat_minor": 0,
  "metadata": {
    "colab": {
      "name": "challeng3final.ipynb",
      "version": "0.3.2",
      "provenance": [],
      "collapsed_sections": []
    },
    "kernelspec": {
      "name": "python3",
      "display_name": "Python 3"
    },
    "accelerator": "GPU"
  },
  "cells": [
    {
      "cell_type": "code",
      "metadata": {
        "id": "dHCygdnbT7mb",
        "colab_type": "code",
        "outputId": "493145fe-1f01-4f31-8ae2-31848f0e5989",
        "colab": {
          "base_uri": "https://localhost:8080/",
          "height": 34
        }
      },
      "source": [
        "import tensorflow as tf\n",
        "import keras\n",
        "import numpy as np\n",
        "from keras.datasets import mnist\n",
        "from keras.models import Sequential\n",
        "from keras.layers import Dense, Activation, Flatten, Dropout, Input\n",
        "from keras.layers import Conv2D, MaxPooling2D, UpSampling2D\n",
        "import matplotlib.pyplot as plt\n",
        "%matplotlib inline\n",
        "from keras import backend as K"
      ],
      "execution_count": 0,
      "outputs": [
        {
          "output_type": "stream",
          "text": [
            "Using TensorFlow backend.\n"
          ],
          "name": "stderr"
        }
      ]
    },
    {
      "cell_type": "code",
      "metadata": {
        "id": "HUSL3bqr2f0v",
        "colab_type": "code",
        "outputId": "c037a4b2-ed88-40c8-c9df-04b407f0e0e0",
        "colab": {
          "base_uri": "https://localhost:8080/",
          "height": 52
        }
      },
      "source": [
        "(x_train, y_train), (x_test, y_test) = mnist.load_data()\n",
        "\n",
        "x_train = x_train.reshape(x_train.shape[0], 28, 28, 1) #transform 2D 28x28 matrix to 3D (28x28x1) matrix\n",
        "x_test = x_test.reshape(x_test.shape[0], 28, 28, 1)\n",
        "\n",
        "x_train = x_train.astype('float32')\n",
        "x_test = x_test.astype('float32')\n",
        "\n",
        "x_train /= 255 #inputs have to be between [0, 1]\n",
        "x_test /= 255"
      ],
      "execution_count": 0,
      "outputs": [
        {
          "output_type": "stream",
          "text": [
            "Downloading data from https://s3.amazonaws.com/img-datasets/mnist.npz\n",
            "11493376/11490434 [==============================] - 1s 0us/step\n"
          ],
          "name": "stdout"
        }
      ]
    },
    {
      "cell_type": "code",
      "metadata": {
        "id": "0VKgsxwhC-v4",
        "colab_type": "code",
        "outputId": "b753ec94-618f-43f5-9744-2c2d6c25faf3",
        "colab": {
          "base_uri": "https://localhost:8080/",
          "height": 34
        }
      },
      "source": [
        "x_merged=np.zeros([40000,28,28,1])\n",
        "y_merged=np.zeros([40000,2])\n",
        "x_testing=np.zeros([8000,28,28,1])\n",
        "y_testing=np.zeros([8000,2])\n",
        "\n",
        "\n",
        "for i in range(8000):\n",
        "  x_testing[i]=np.maximum(x_test[i],x_test[i+7])\n",
        "  y_testing[i][0]=y_test[i]\n",
        "  y_testing[i][1]=y_test[i+7]\n",
        "\n",
        "for i in range(40000):\n",
        "  x_merged[i]=np.maximum(x_train[i],x_train[i+5])\n",
        "  y_merged[i][0]=y_train[i]\n",
        "  y_merged[i][1]=y_train[i+5]\n",
        "  #x_unmerged[i,0:,0:,0]=x_train[i].reshape(28,28)\n",
        "  #x_unmerged[i,0:,0:,1]=x_train[i+5].reshape(28,28)\n",
        "      \n",
        "\n",
        " \n",
        "x_merged.shape"
      ],
      "execution_count": 0,
      "outputs": [
        {
          "output_type": "execute_result",
          "data": {
            "text/plain": [
              "(40000, 28, 28, 1)"
            ]
          },
          "metadata": {
            "tags": []
          },
          "execution_count": 3
        }
      ]
    },
    {
      "cell_type": "code",
      "metadata": {
        "id": "S59-H4r3DNC9",
        "colab_type": "code",
        "outputId": "448a5a71-0a90-497f-ff02-8cb762be65b1",
        "colab": {
          "base_uri": "https://localhost:8080/",
          "height": 1431
        }
      },
      "source": [
        "for i in range(5):\n",
        "    \n",
        "    \n",
        "    print(y_merged[i])\n",
        "    \n",
        "    plt.imshow(x_merged[i].reshape(28, 28))\n",
        "    plt.gray()\n",
        "    plt.show()\n",
        "    \n",
        "    print(\"----------------------------\")"
      ],
      "execution_count": 0,
      "outputs": [
        {
          "output_type": "stream",
          "text": [
            "[5. 2.]\n"
          ],
          "name": "stdout"
        },
        {
          "output_type": "display_data",
          "data": {
            "image/png": "[encoded data removed]",
            "text/plain": [
              "<Figure size 432x288 with 1 Axes>"
            ]
          },
          "metadata": {
            "tags": []
          }
        },
        {
          "output_type": "stream",
          "text": [
            "----------------------------\n",
            "[0. 1.]\n"
          ],
          "name": "stdout"
        },
        {
          "output_type": "display_data",
          "data": {
            "image/png": "[encoded data removed]",
            "text/plain": [
              "<Figure size 432x288 with 1 Axes>"
            ]
          },
          "metadata": {
            "tags": []
          }
        },
        {
          "output_type": "stream",
          "text": [
            "----------------------------\n",
            "[4. 3.]\n"
          ],
          "name": "stdout"
        },
        {
          "output_type": "display_data",
          "data": {
            "image/png": "[encoded data removed]",
            "text/plain": [
              "<Figure size 432x288 with 1 Axes>"
            ]
          },
          "metadata": {
            "tags": []
          }
        },
        {
          "output_type": "stream",
          "text": [
            "----------------------------\n",
            "[1. 1.]\n"
          ],
          "name": "stdout"
        },
        {
          "output_type": "display_data",
          "data": {
            "image/png": "[encoded data removed]",
            "text/plain": [
              "<Figure size 432x288 with 1 Axes>"
            ]
          },
          "metadata": {
            "tags": []
          }
        },
        {
          "output_type": "stream",
          "text": [
            "----------------------------\n",
            "[9. 4.]\n"
          ],
          "name": "stdout"
        },
        {
          "output_type": "display_data",
          "data": {
            "image/png": "[encoded data removed]",
            "text/plain": [
              "<Figure size 432x288 with 1 Axes>"
            ]
          },
          "metadata": {
            "tags": []
          }
        },
        {
          "output_type": "stream",
          "text": [
            "----------------------------\n"
          ],
          "name": "stdout"
        }
      ]
    },
    {
      "cell_type": "code",
      "metadata": {
        "id": "YR6YOU7dHHTG",
        "colab_type": "code",
        "colab": {}
      },
      "source": [
        "model = Sequential()\n",
        "\n",
        "#1st convolution layer\n",
        "model.add(Conv2D(16, (3, 3), padding='same', input_shape=(28,28,1)))\n",
        "model.add(Activation('relu'))\n",
        "model.add(MaxPooling2D(pool_size=(2,2), padding='same'))\n",
        "\n",
        "#2nd convolution layer\n",
        "model.add(Conv2D(32,(3, 3), padding='same')) # apply 2 filters sized of (3x3)\n",
        "model.add(Activation('relu'))\n",
        "model.add(MaxPooling2D(pool_size=(2,2), padding='same'))\n",
        "\n",
        "model.add(Conv2D(32,(3, 3), padding='same')) # apply 2 filters sized of (3x3)\n",
        "model.add(Activation('relu'))\n",
        "model.add(MaxPooling2D(pool_size=(2,2), padding='same'))\n",
        "\n",
        "model.add(Flatten())\n",
        "\n",
        "model.add(Dense(1024, activation='relu'))\n",
        "model.add(Dense(10, activation='sigmoid'))"
      ],
      "execution_count": 0,
      "outputs": []
    },
    {
      "cell_type": "code",
      "metadata": {
        "id": "4xl5-_YPtaCr",
        "colab_type": "code",
        "colab": {}
      },
      "source": [
        "y_train=keras.utils.to_categorical(y_train, num_classes=10)\n",
        "y_test=keras.utils.to_categorical(y_test, num_classes=10)"
      ],
      "execution_count": 0,
      "outputs": []
    },
    {
      "cell_type": "code",
      "metadata": {
        "id": "ZfDCJwzWtl_s",
        "colab_type": "code",
        "colab": {}
      },
      "source": [
        "y_data=np.copy(y_train)\n",
        "y_data=y_data.astype(int)\n",
        "y_data=np.bitwise_or(y_data[0:40000],y_data[5:40005])"
      ],
      "execution_count": 0,
      "outputs": []
    },
    {
      "cell_type": "code",
      "metadata": {
        "id": "LKwF18rAtlsJ",
        "colab_type": "code",
        "colab": {}
      },
      "source": [
        "model.compile(optimizer='adam', loss='binary_crossentropy')"
      ],
      "execution_count": 0,
      "outputs": []
    },
    {
      "cell_type": "code",
      "metadata": {
        "id": "k0L4kgF2tlmS",
        "colab_type": "code",
        "outputId": "faef8a6a-dc27-4150-83c3-4485eb69fb10",
        "colab": {
          "base_uri": "https://localhost:8080/",
          "height": 139
        }
      },
      "source": [
        "model.fit(x_merged,y_data, epochs=3)"
      ],
      "execution_count": 0,
      "outputs": [
        {
          "output_type": "stream",
          "text": [
            "Epoch 1/3\n",
            "40000/40000 [==============================] - 14s 359us/step - loss: 0.1885\n",
            "Epoch 2/3\n",
            "40000/40000 [==============================] - 10s 262us/step - loss: 0.1143\n",
            "Epoch 3/3\n",
            "40000/40000 [==============================] - 11s 263us/step - loss: 0.0949\n"
          ],
          "name": "stdout"
        },
        {
          "output_type": "execute_result",
          "data": {
            "text/plain": [
              "<keras.callbacks.History at 0x7f2d6b373b00>"
            ]
          },
          "metadata": {
            "tags": []
          },
          "execution_count": 9
        }
      ]
    },
    {
      "cell_type": "code",
      "metadata": {
        "id": "2-s6Bnbrv5HD",
        "colab_type": "code",
        "outputId": "64ce2ea8-9974-4573-d577-5efac02e36dd",
        "colab": {
          "base_uri": "https://localhost:8080/",
          "height": 278
        }
      },
      "source": [
        "model.predict(x_merged[0:5])"
      ],
      "execution_count": 0,
      "outputs": [
        {
          "output_type": "execute_result",
          "data": {
            "text/plain": [
              "array([[9.3824950e-05, 3.0226677e-03, 9.9976462e-01, 1.0678021e-03,\n",
              "        2.2648857e-04, 9.8729229e-01, 3.4401201e-05, 1.0022216e-02,\n",
              "        1.9742580e-02, 2.2223490e-04],\n",
              "       [9.9940562e-01, 9.9920720e-01, 1.9389689e-03, 3.7251459e-04,\n",
              "        8.3239975e-05, 2.9335634e-04, 1.8615047e-04, 2.0692180e-04,\n",
              "        1.4096181e-03, 6.1892899e-04],\n",
              "       [1.0315689e-04, 5.5658940e-04, 2.9621189e-02, 9.9588579e-01,\n",
              "        9.6129775e-01, 1.4306221e-02, 1.6703492e-05, 1.1703251e-01,\n",
              "        4.6340172e-04, 1.5430812e-02],\n",
              "       [3.0203684e-05, 9.9999690e-01, 9.9658435e-05, 4.9359205e-06,\n",
              "        1.6687935e-02, 4.0632262e-05, 3.1737078e-04, 2.4438373e-04,\n",
              "        2.7773850e-02, 8.1735954e-05],\n",
              "       [2.0677658e-06, 1.0315250e-02, 4.3659489e-05, 1.5521751e-07,\n",
              "        9.9852008e-01, 1.0229205e-04, 2.6239140e-04, 8.6722178e-03,\n",
              "        5.2427519e-03, 9.4927418e-01]], dtype=float32)"
            ]
          },
          "metadata": {
            "tags": []
          },
          "execution_count": 10
        }
      ]
    },
    {
      "cell_type": "code",
      "metadata": {
        "id": "alUDAEOBwJ19",
        "colab_type": "code",
        "colab": {}
      },
      "source": [
        "x_temp=np.zeros(x_train[0:10].shape)\n",
        "x_temp[0]=x_train[1]\n",
        "x_temp[1]=x_train[8]\n",
        "x_temp[2]=x_train[5]\n",
        "x_temp[3]=x_train[7]\n",
        "x_temp[4]=x_train[2]\n",
        "x_temp[5]=x_train[0]\n",
        "x_temp[6]=x_train[13]\n",
        "x_temp[7]=x_train[15]\n",
        "x_temp[8]=x_train[8]\n",
        "x_temp[9]=x_train[4]\n"
      ],
      "execution_count": 0,
      "outputs": []
    },
    {
      "cell_type": "code",
      "metadata": {
        "id": "ZQPGJ6fdwJoq",
        "colab_type": "code",
        "colab": {}
      },
      "source": [
        "generate = Sequential()\n",
        "\n",
        "generate.add(Dense(49, activation='relu', input_dim=1))\n",
        "generate.add(keras.layers.Reshape((7, 7, 1), input_shape=(49,)))\n",
        "\n",
        "generate.add(Conv2D(32,(3, 3), padding='same'))\n",
        "generate.add(Activation('relu'))\n",
        "generate.add(UpSampling2D((2, 2)))\n",
        "\n",
        "\n",
        "generate.add(Conv2D(16,(3, 3), padding='same'))\n",
        "generate.add(Activation('relu'))\n",
        "generate.add(UpSampling2D((2, 2)))\n",
        "\n",
        "\n",
        "generate.add(Conv2D(1,(3, 3), padding='same'))\n",
        "generate.add(Activation('sigmoid'))\n"
      ],
      "execution_count": 0,
      "outputs": []
    },
    {
      "cell_type": "code",
      "metadata": {
        "id": "phPXvCChwJb8",
        "colab_type": "code",
        "colab": {}
      },
      "source": [
        "generate.compile(optimizer='adam', loss='binary_crossentropy')"
      ],
      "execution_count": 0,
      "outputs": []
    },
    {
      "cell_type": "code",
      "metadata": {
        "id": "tcqTg_zzJ1UZ",
        "colab_type": "code",
        "colab": {}
      },
      "source": [
        "y_digits=np.zeros(y_train.shape[0])\n",
        "y_predict=model.predict(x_merged)\n",
        "y_pred1=np.zeros(y_predict.shape[0])\n",
        "y_pred2=np.zeros(y_predict.shape[0])\n",
        "x_check=np.zeros([y_digits.shape[0],28,28,1])\n",
        "ctr=0\n",
        "for i in range(len(y_train[0:40000])):\n",
        "    y_digits[i]=np.argmax(y_train[i])\n",
        "    y_pred1[i]=np.argmax(y_predict[i])\n",
        "    y_predict[i,np.argmax(y_predict[i])]=0\n",
        "    y_pred2[i]=np.argmax(y_predict[i])\n",
        "    x_check[i]=x_temp[int(y_digits[i])]\n"
      ],
      "execution_count": 0,
      "outputs": []
    },
    {
      "cell_type": "code",
      "metadata": {
        "id": "9OLV67av3Nut",
        "colab_type": "code",
        "outputId": "4e2ef4cc-a8c6-4bca-e44b-f170c9a6ae67",
        "colab": {
          "base_uri": "https://localhost:8080/",
          "height": 34
        }
      },
      "source": [
        "print(y_pred1[0],y_pred2[0])"
      ],
      "execution_count": 0,
      "outputs": [
        {
          "output_type": "stream",
          "text": [
            "2.0 5.0\n"
          ],
          "name": "stdout"
        }
      ]
    },
    {
      "cell_type": "code",
      "metadata": {
        "id": "xtlQuzqowJRw",
        "colab_type": "code",
        "outputId": "a7030168-4859-4d32-d5df-8e482a711d2e",
        "colab": {
          "base_uri": "https://localhost:8080/",
          "height": 139
        }
      },
      "source": [
        "generate.fit(y_digits,x_check, epochs=3)"
      ],
      "execution_count": 0,
      "outputs": [
        {
          "output_type": "stream",
          "text": [
            "Epoch 1/3\n",
            "60000/60000 [==============================] - 13s 212us/step - loss: 0.1076\n",
            "Epoch 2/3\n",
            "60000/60000 [==============================] - 12s 208us/step - loss: 0.1039\n",
            "Epoch 3/3\n",
            "60000/60000 [==============================] - 12s 208us/step - loss: 0.1009\n"
          ],
          "name": "stdout"
        },
        {
          "output_type": "execute_result",
          "data": {
            "text/plain": [
              "<keras.callbacks.History at 0x7f2d63ae2fd0>"
            ]
          },
          "metadata": {
            "tags": []
          },
          "execution_count": 25
        }
      ]
    },
    {
      "cell_type": "code",
      "metadata": {
        "id": "r3aQECgdwJEI",
        "colab_type": "code",
        "outputId": "7f193a3a-47be-423a-ccf7-ea64bb3cc5cf",
        "colab": {
          "base_uri": "https://localhost:8080/",
          "height": 5468
        }
      },
      "source": [
        "x_pred1=generate.predict(y_pred1[0:7])\n",
        "x_pred2=generate.predict(y_pred2[0:7])\n",
        "\n",
        "for i in range(7):\n",
        "    \n",
        "    plt.imshow(x_merged[i].reshape(28, 28))\n",
        "    plt.gray()\n",
        "    plt.show()\n",
        "    \n",
        "    print(y_pred1[i], y_pred2[i])\n",
        "    \n",
        "    plt.imshow(x_pred1[i].reshape(28, 28))\n",
        "    plt.gray()\n",
        "    plt.show()\n",
        "    \n",
        "    plt.imshow(x_pred2[i].reshape(28, 28))\n",
        "    plt.gray()\n",
        "    plt.show()\n",
        "    \n",
        "    print(\"----------------------------\")\n"
      ],
      "execution_count": 0,
      "outputs": [
        {
          "output_type": "display_data",
          "data": {
            "image/png": "[encoded data removed]",
            "text/plain": [
              "<Figure size 432x288 with 1 Axes>"
            ]
          },
          "metadata": {
            "tags": []
          }
        },
        {
          "output_type": "stream",
          "text": [
            "2.0 5.0\n"
          ],
          "name": "stdout"
        },
        {
          "output_type": "display_data",
          "data": {
            "image/png": "[encoded data removed]",
            "text/plain": [
              "<Figure size 432x288 with 1 Axes>"
            ]
          },
          "metadata": {
            "tags": []
          }
        },
        {
          "output_type": "display_data",
          "data": {
            "image/png": "[encoded data removed]",
            "text/plain": [
              "<Figure size 432x288 with 1 Axes>"
            ]
          },
          "metadata": {
            "tags": []
          }
        },
        {
          "output_type": "stream",
          "text": [
            "----------------------------\n"
          ],
          "name": "stdout"
        },
        {
          "output_type": "display_data",
          "data": {
            "image/png": "[encoded data removed]",
            "text/plain": [
              "<Figure size 432x288 with 1 Axes>"
            ]
          },
          "metadata": {
            "tags": []
          }
        },
        {
          "output_type": "stream",
          "text": [
            "0.0 1.0\n"
          ],
          "name": "stdout"
        },
        {
          "output_type": "display_data",
          "data": {
            "image/png": "[encoded data removed]",
            "text/plain": [
              "<Figure size 432x288 with 1 Axes>"
            ]
          },
          "metadata": {
            "tags": []
          }
        },
        {
          "output_type": "display_data",
          "data": {
            "image/png": "[encoded data removed]",
            "text/plain": [
              "<Figure size 432x288 with 1 Axes>"
            ]
          },
          "metadata": {
            "tags": []
          }
        },
        {
          "output_type": "stream",
          "text": [
            "----------------------------\n"
          ],
          "name": "stdout"
        },
        {
          "output_type": "display_data",
          "data": {
            "image/png": "[encoded data removed]",
            "text/plain": [
              "<Figure size 432x288 with 1 Axes>"
            ]
          },
          "metadata": {
            "tags": []
          }
        },
        {
          "output_type": "stream",
          "text": [
            "3.0 4.0\n"
          ],
          "name": "stdout"
        },
        {
          "output_type": "display_data",
          "data": {
            "image/png": "[encoded data removed]",
            "text/plain": [
              "<Figure size 432x288 with 1 Axes>"
            ]
          },
          "metadata": {
            "tags": []
          }
        },
        {
          "output_type": "display_data",
          "data": {
            "image/png": "[encoded data removed]",
            "text/plain": [
              "<Figure size 432x288 with 1 Axes>"
            ]
          },
          "metadata": {
            "tags": []
          }
        },
        {
          "output_type": "stream",
          "text": [
            "----------------------------\n"
          ],
          "name": "stdout"
        },
        {
          "output_type": "display_data",
          "data": {
            "image/png": "[encoded data removed]",
            "text/plain": [
              "<Figure size 432x288 with 1 Axes>"
            ]
          },
          "metadata": {
            "tags": []
          }
        },
        {
          "output_type": "stream",
          "text": [
            "1.0 8.0\n"
          ],
          "name": "stdout"
        },
        {
          "output_type": "display_data",
          "data": {
            "image/png": "[encoded data removed]",
            "text/plain": [
              "<Figure size 432x288 with 1 Axes>"
            ]
          },
          "metadata": {
            "tags": []
          }
        },
        {
          "output_type": "display_data",
          "data": {
            "image/png": "[encoded data removed]",
            "text/plain": [
              "<Figure size 432x288 with 1 Axes>"
            ]
          },
          "metadata": {
            "tags": []
          }
        },
        {
          "output_type": "stream",
          "text": [
            "----------------------------\n"
          ],
          "name": "stdout"
        },
        {
          "output_type": "display_data",
          "data": {
            "image/png": "[encoded data removed]",
            "text/plain": [
              "<Figure size 432x288 with 1 Axes>"
            ]
          },
          "metadata": {
            "tags": []
          }
        },
        {
          "output_type": "stream",
          "text": [
            "4.0 9.0\n"
          ],
          "name": "stdout"
        },
        {
          "output_type": "display_data",
          "data": {
            "image/png": "[encoded data removed]",
            "text/plain": [
              "<Figure size 432x288 with 1 Axes>"
            ]
          },
          "metadata": {
            "tags": []
          }
        },
        {
          "output_type": "display_data",
          "data": {
            "image/png": "[encoded data removed]",
            "text/plain": [
              "<Figure size 432x288 with 1 Axes>"
            ]
          },
          "metadata": {
            "tags": []
          }
        },
        {
          "output_type": "stream",
          "text": [
            "----------------------------\n"
          ],
          "name": "stdout"
        },
        {
          "output_type": "display_data",
          "data": {
            "image/png": "[encoded data removed]",
            "text/plain": [
              "<Figure size 432x288 with 1 Axes>"
            ]
          },
          "metadata": {
            "tags": []
          }
        },
        {
          "output_type": "stream",
          "text": [
            "2.0 3.0\n"
          ],
          "name": "stdout"
        },
        {
          "output_type": "display_data",
          "data": {
            "image/png": "[encoded data removed]",
            "text/plain": [
              "<Figure size 432x288 with 1 Axes>"
            ]
          },
          "metadata": {
            "tags": []
          }
        },
        {
          "output_type": "display_data",
          "data": {
            "image/png": "[encoded data removed]",
            "text/plain": [
              "<Figure size 432x288 with 1 Axes>"
            ]
          },
          "metadata": {
            "tags": []
          }
        },
        {
          "output_type": "stream",
          "text": [
            "----------------------------\n"
          ],
          "name": "stdout"
        },
        {
          "output_type": "display_data",
          "data": {
            "image/png": "[encoded data removed]",
            "text/plain": [
              "<Figure size 432x288 with 1 Axes>"
            ]
          },
          "metadata": {
            "tags": []
          }
        },
        {
          "output_type": "stream",
          "text": [
            "5.0 1.0\n"
          ],
          "name": "stdout"
        },
        {
          "output_type": "display_data",
          "data": {
            "image/png": "[encoded data removed]",
            "text/plain": [
              "<Figure size 432x288 with 1 Axes>"
            ]
          },
          "metadata": {
            "tags": []
          }
        },
        {
          "output_type": "display_data",
          "data": {
            "image/png": "[encoded data removed]",
            "text/plain": [
              "<Figure size 432x288 with 1 Axes>"
            ]
          },
          "metadata": {
            "tags": []
          }
        },
        {
          "output_type": "stream",
          "text": [
            "----------------------------\n"
          ],
          "name": "stdout"
        }
      ]
    },
    {
      "cell_type": "code",
      "metadata": {
        "id": "3QW48AX4VxnV",
        "colab_type": "code",
        "colab": {}
      },
      "source": [
        ""
      ],
      "execution_count": 0,
      "outputs": []
    }
  ]
}